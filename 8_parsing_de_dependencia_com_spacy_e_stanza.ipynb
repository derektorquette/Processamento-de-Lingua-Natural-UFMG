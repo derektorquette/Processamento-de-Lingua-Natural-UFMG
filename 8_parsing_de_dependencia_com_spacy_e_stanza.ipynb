{
  "nbformat": 4,
  "nbformat_minor": 0,
  "metadata": {
    "colab": {
      "provenance": [],
      "authorship_tag": "ABX9TyM/VlPFKJuDUIn2EWbXWZwO",
      "include_colab_link": true
    },
    "kernelspec": {
      "name": "python3",
      "display_name": "Python 3"
    },
    "language_info": {
      "name": "python"
    }
  },
  "cells": [
    {
      "cell_type": "markdown",
      "metadata": {
        "id": "view-in-github",
        "colab_type": "text"
      },
      "source": [
        "<a href=\"https://colab.research.google.com/github/derektorquette/processamento-de-lingua-natural-ufmg/blob/main/8_parsing_de_dependencia_com_spacy_e_stanza.ipynb\" target=\"_parent\"><img src=\"https://colab.research.google.com/assets/colab-badge.svg\" alt=\"Open In Colab\"/></a>"
      ]
    },
    {
      "cell_type": "markdown",
      "source": [
        "# **Parsing de Dependência**\n",
        "\n",
        "## Em árvores de dependência, as relações entre as palavras de uma sentença são representadas por meio de relações sintáticas entre elas, tendo uma delas, chamada de raiz/root, como ponto de partida.\n",
        "\n",
        " - biblioteca Spacy\n"
      ],
      "metadata": {
        "id": "diY6sedJ0zCh"
      }
    },
    {
      "cell_type": "markdown",
      "source": [
        "## Baixando as dependências"
      ],
      "metadata": {
        "id": "g1p6y9LPHgja"
      }
    },
    {
      "cell_type": "code",
      "source": [
        "!pip3 install -U pip setuptools wheel\n",
        "!pip3 install -U spacy[cuda102]\n",
        "!pip3 install tabulate"
      ],
      "metadata": {
        "id": "qtqQbceADD2y"
      },
      "execution_count": null,
      "outputs": []
    },
    {
      "cell_type": "code",
      "source": [
        "!python3 -m spacy download pt_core_news_lg # modelo treinado para o Português\n",
        "!python3 -m spacy download en_core_web_trf  # modelo treinado para o Ingês"
      ],
      "metadata": {
        "id": "BKglFznSDijy"
      },
      "execution_count": null,
      "outputs": []
    },
    {
      "cell_type": "code",
      "source": [
        "import spacy\n",
        "\n",
        "spacy.prefer_gpu()\n",
        "nlp = spacy.load('pt_core_news_lg')"
      ],
      "metadata": {
        "id": "9JAkG8AwENIK"
      },
      "execution_count": 39,
      "outputs": []
    },
    {
      "cell_type": "markdown",
      "source": [
        "## Obtendo as dependências"
      ],
      "metadata": {
        "id": "9klH3-GOHLbB"
      }
    },
    {
      "cell_type": "markdown",
      "source": [
        "## Parsing em Português"
      ],
      "metadata": {
        "id": "uPQC_ejlKRyJ"
      }
    },
    {
      "cell_type": "code",
      "source": [
        "doc = nlp('Água sanitária pode ser eficaz no combate às larvas do mosquito da dengue.')"
      ],
      "metadata": {
        "id": "kXGsPtmeEnqd"
      },
      "execution_count": 11,
      "outputs": []
    },
    {
      "cell_type": "code",
      "source": [
        "doc[0]"
      ],
      "metadata": {
        "colab": {
          "base_uri": "https://localhost:8080/"
        },
        "id": "U-4xRrMAFFbE",
        "outputId": "055ac843-ba8f-4e45-bdf1-4d5507311b81"
      },
      "execution_count": 15,
      "outputs": [
        {
          "output_type": "execute_result",
          "data": {
            "text/plain": [
              "Água"
            ]
          },
          "metadata": {},
          "execution_count": 15
        }
      ]
    },
    {
      "cell_type": "code",
      "source": [
        "for token in doc:\n",
        "  print(token.lemma_, token.pos_, token.dep_, token.head)"
      ],
      "metadata": {
        "colab": {
          "base_uri": "https://localhost:8080/"
        },
        "id": "E6lpBvodFbhB",
        "outputId": "0be62685-5a84-46be-f983-9c5664b7d5d1"
      },
      "execution_count": 16,
      "outputs": [
        {
          "output_type": "stream",
          "name": "stdout",
          "text": [
            "Água NOUN nsubj pode\n",
            "sanitário ADJ amod Água\n",
            "poder VERB ROOT pode\n",
            "ser AUX cop eficaz\n",
            "eficaz ADJ xcomp pode\n",
            "em o ADP case combate\n",
            "combate NOUN obl eficaz\n",
            "a o ADP case larvas\n",
            "larva NOUN nmod combate\n",
            "de o ADP case mosquito\n",
            "mosquito NOUN nmod larvas\n",
            "de o ADP case dengue\n",
            "dengue NOUN nmod mosquito\n",
            ". PUNCT punct pode\n"
          ]
        }
      ]
    },
    {
      "cell_type": "code",
      "source": [
        "import tabulate\n",
        "\n",
        "data = []\n",
        "for token in doc:\n",
        "  data.append((token.i, token.lemma_, token.pos_, token.morph, token.dep_, token.head))\n",
        "\n",
        "header = ['Idx', 'Lemma', 'Classe de Palvra', 'Morfologia', 'Dependência', 'Governador']\n",
        "print(tabulate.tabulate(data, header))"
      ],
      "metadata": {
        "colab": {
          "base_uri": "https://localhost:8080/"
        },
        "id": "BjbLE5xqFxpp",
        "outputId": "68dc4168-4b84-49dc-a85c-52a2e6c813e9"
      },
      "execution_count": 20,
      "outputs": [
        {
          "output_type": "stream",
          "name": "stdout",
          "text": [
            "  Idx  Lemma      Classe de Palvra    Morfologia                                             Dependência    Governador\n",
            "-----  ---------  ------------------  -----------------------------------------------------  -------------  ------------\n",
            "    0  Água       NOUN                Gender=Fem|Number=Sing                                 nsubj          pode\n",
            "    1  sanitário  ADJ                 Gender=Fem|Number=Sing                                 amod           Água\n",
            "    2  poder      VERB                Mood=Ind|Number=Sing|Person=3|Tense=Pres|VerbForm=Fin  ROOT           pode\n",
            "    3  ser        AUX                 VerbForm=Inf                                           cop            eficaz\n",
            "    4  eficaz     ADJ                 Gender=Fem|Number=Sing                                 xcomp          pode\n",
            "    5  em o       ADP                 Definite=Def|Gender=Masc|Number=Sing|PronType=Art      case           combate\n",
            "    6  combate    NOUN                Gender=Masc|Number=Sing                                obl            eficaz\n",
            "    7  a o        ADP                 Definite=Def|Gender=Fem|Number=Plur|PronType=Art       case           larvas\n",
            "    8  larva      NOUN                Gender=Fem|Number=Plur                                 nmod           combate\n",
            "    9  de o       ADP                 Definite=Def|Gender=Masc|Number=Sing|PronType=Art      case           mosquito\n",
            "   10  mosquito   NOUN                Gender=Masc|Number=Sing                                nmod           larvas\n",
            "   11  de o       ADP                 Definite=Def|Gender=Fem|Number=Sing|PronType=Art       case           dengue\n",
            "   12  dengue     NOUN                Gender=Fem|Number=Sing                                 nmod           mosquito\n",
            "   13  .          PUNCT                                                                      punct          pode\n"
          ]
        }
      ]
    },
    {
      "cell_type": "markdown",
      "source": [
        "## buscando subestruturas"
      ],
      "metadata": {
        "id": "qrGnWqgOHDc9"
      }
    },
    {
      "cell_type": "code",
      "source": [
        "def get_subfrase(root, tokens, subfrase):\n",
        "  subfrase.append((root.i, str(root)))\n",
        "\n",
        "  for token in root.children:\n",
        "    subfrase = get_subfrase(token, tokens, subfrase)\n",
        "  return subfrase"
      ],
      "metadata": {
        "id": "MzyqyOiOHA_N"
      },
      "execution_count": 21,
      "outputs": []
    },
    {
      "cell_type": "code",
      "source": [
        "doc[4]"
      ],
      "metadata": {
        "colab": {
          "base_uri": "https://localhost:8080/"
        },
        "id": "J4Pf8_JMJB3J",
        "outputId": "0d5dea3e-e0f8-499d-a708-93d1ccb4b1b2"
      },
      "execution_count": 22,
      "outputs": [
        {
          "output_type": "execute_result",
          "data": {
            "text/plain": [
              "eficaz"
            ]
          },
          "metadata": {},
          "execution_count": 22
        }
      ]
    },
    {
      "cell_type": "code",
      "source": [
        "r = get_subfrase(doc[10], doc, [])\n",
        "\n",
        "[w[1] for w in sorted(r, key=lambda x: x[0])]\n",
        "\n"
      ],
      "metadata": {
        "colab": {
          "base_uri": "https://localhost:8080/"
        },
        "id": "RGglfiUrJHIy",
        "outputId": "1ce18c87-68af-42f7-ca0c-b6ea89f39143"
      },
      "execution_count": 36,
      "outputs": [
        {
          "output_type": "execute_result",
          "data": {
            "text/plain": [
              "['do', 'mosquito', 'da', 'dengue']"
            ]
          },
          "metadata": {},
          "execution_count": 36
        }
      ]
    },
    {
      "cell_type": "markdown",
      "source": [
        "# **Stanza**\n",
        "\n",
        "- outro modelo de estado-da-arte para Processamento de Língua Natural\n",
        "\n",
        "https://stanfordnlp.github.io/stanza/"
      ],
      "metadata": {
        "id": "hpBz99HVLxkJ"
      }
    },
    {
      "cell_type": "code",
      "source": [
        "!pip3 install stanza"
      ],
      "metadata": {
        "id": "LpPAlih4L4YN"
      },
      "execution_count": null,
      "outputs": []
    },
    {
      "cell_type": "markdown",
      "source": [
        "## **Importando a biblioteca e baixando o modelo treinado**"
      ],
      "metadata": {
        "id": "Llf_dcUxMb6p"
      }
    },
    {
      "cell_type": "code",
      "source": [
        "import stanza\n",
        "stanza.download('pt')"
      ],
      "metadata": {
        "id": "8fcpi7c4Maie"
      },
      "execution_count": null,
      "outputs": []
    },
    {
      "cell_type": "code",
      "source": [
        "nlp = stanza.Pipeline('pt')"
      ],
      "metadata": {
        "id": "9HkCqxv7M1l4"
      },
      "execution_count": null,
      "outputs": []
    },
    {
      "cell_type": "code",
      "source": [
        "doc = nlp(\"Água sanitária pode ser eficaz no combate às larvas do mosquito da dengue.\")"
      ],
      "metadata": {
        "id": "iwlACL8XM6Iq"
      },
      "execution_count": 47,
      "outputs": []
    },
    {
      "cell_type": "code",
      "source": [
        "for snt in doc.sentences:\n",
        "  print(snt)"
      ],
      "metadata": {
        "id": "A6jcvFQfNFsk"
      },
      "execution_count": null,
      "outputs": []
    },
    {
      "cell_type": "code",
      "source": [
        "for snt in doc.sentences:\n",
        "    for token in snt.words:\n",
        "      head = snt.words[token.head-1].text if token.head > 0 else \"root\"\n",
        "      print(token.id, token.text, token.upos, token.feats, token.deprel, head)"
      ],
      "metadata": {
        "colab": {
          "base_uri": "https://localhost:8080/"
        },
        "id": "aJO1WrbONY75",
        "outputId": "61eb32fc-e6ff-4a8b-ad9c-03ab112bd76e"
      },
      "execution_count": 53,
      "outputs": [
        {
          "output_type": "stream",
          "name": "stdout",
          "text": [
            "1 Água NOUN Gender=Fem|Number=Sing nsubj pode\n",
            "2 sanitária ADJ Gender=Fem|Number=Sing amod Água\n",
            "3 pode VERB Mood=Ind|Number=Sing|Person=3|Tense=Pres|VerbForm=Fin root root\n",
            "4 ser AUX VerbForm=Inf cop eficaz\n",
            "5 eficaz ADJ Gender=Fem|Number=Sing xcomp pode\n",
            "6 em ADP None case combate\n",
            "7 o DET Definite=Def|Gender=Masc|Number=Sing|PronType=Art det combate\n",
            "8 combate NOUN Gender=Masc|Number=Sing obl eficaz\n",
            "9 a ADP None case larvas\n",
            "10 as DET Definite=Def|Gender=Fem|Number=Plur|PronType=Art det larvas\n",
            "11 larvas NOUN Gender=Fem|Number=Plur nmod combate\n",
            "12 de ADP None case mosquito\n",
            "13 o DET Definite=Def|Gender=Masc|Number=Sing|PronType=Art det mosquito\n",
            "14 mosquito NOUN Gender=Masc|Number=Sing nmod larvas\n",
            "15 de ADP None case dengue\n",
            "16 a DET Definite=Def|Gender=Fem|Number=Sing|PronType=Art det dengue\n",
            "17 dengue NOUN Gender=Fem|Number=Sing nmod mosquito\n",
            "18 . PUNCT None punct eficaz\n"
          ]
        }
      ]
    },
    {
      "cell_type": "code",
      "source": [
        "data = []\n",
        "for snt in doc.sentences:\n",
        "    for token in snt.words:\n",
        "      head = snt.words[token.head-1].text if token.head > 0 else \"root\"\n",
        "      data.append((token.id, token.text, token.upos, token.feats, token.deprel, head))\n",
        "\n",
        "header = ['Idx', 'Lemma', 'Classe de Palvra', 'Morfologia', 'Dependência', 'Governador']\n",
        "print(tabulate.tabulate(data, header))"
      ],
      "metadata": {
        "colab": {
          "base_uri": "https://localhost:8080/"
        },
        "id": "fU1-N1T1OOnR",
        "outputId": "56cd6562-809e-4c58-f1be-d576c9a6ab15"
      },
      "execution_count": 55,
      "outputs": [
        {
          "output_type": "stream",
          "name": "stdout",
          "text": [
            "  Idx  Lemma      Classe de Palvra    Morfologia                                             Dependência    Governador\n",
            "-----  ---------  ------------------  -----------------------------------------------------  -------------  ------------\n",
            "    1  Água       NOUN                Gender=Fem|Number=Sing                                 nsubj          pode\n",
            "    2  sanitária  ADJ                 Gender=Fem|Number=Sing                                 amod           Água\n",
            "    3  pode       VERB                Mood=Ind|Number=Sing|Person=3|Tense=Pres|VerbForm=Fin  root           root\n",
            "    4  ser        AUX                 VerbForm=Inf                                           cop            eficaz\n",
            "    5  eficaz     ADJ                 Gender=Fem|Number=Sing                                 xcomp          pode\n",
            "    6  em         ADP                                                                        case           combate\n",
            "    7  o          DET                 Definite=Def|Gender=Masc|Number=Sing|PronType=Art      det            combate\n",
            "    8  combate    NOUN                Gender=Masc|Number=Sing                                obl            eficaz\n",
            "    9  a          ADP                                                                        case           larvas\n",
            "   10  as         DET                 Definite=Def|Gender=Fem|Number=Plur|PronType=Art       det            larvas\n",
            "   11  larvas     NOUN                Gender=Fem|Number=Plur                                 nmod           combate\n",
            "   12  de         ADP                                                                        case           mosquito\n",
            "   13  o          DET                 Definite=Def|Gender=Masc|Number=Sing|PronType=Art      det            mosquito\n",
            "   14  mosquito   NOUN                Gender=Masc|Number=Sing                                nmod           larvas\n",
            "   15  de         ADP                                                                        case           dengue\n",
            "   16  a          DET                 Definite=Def|Gender=Fem|Number=Sing|PronType=Art       det            dengue\n",
            "   17  dengue     NOUN                Gender=Fem|Number=Sing                                 nmod           mosquito\n",
            "   18  .          PUNCT                                                                      punct          eficaz\n"
          ]
        }
      ]
    }
  ]
}